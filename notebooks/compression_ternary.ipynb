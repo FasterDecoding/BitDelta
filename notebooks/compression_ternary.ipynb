{
 "cells": [
  {
   "cell_type": "code",
   "execution_count": 1,
   "metadata": {},
   "outputs": [],
   "source": [
    "import os\n",
    "os.environ[\"CUDA_VISIBLE_DEVICES\"] = \"0, 2\""
   ]
  },
  {
   "cell_type": "code",
   "execution_count": 2,
   "metadata": {},
   "outputs": [],
   "source": [
    "import transformers\n",
    "import torch\n",
    "import torch.nn as nn\n",
    "import torch.nn.functional as F\n",
    "from matplotlib import pyplot as plt\n",
    "import numpy as np\n",
    "import pandas as pd\n",
    "import seaborn as sns\n",
    "from datasets import load_dataset\n",
    "import gc"
   ]
  },
  {
   "cell_type": "code",
   "execution_count": 3,
   "metadata": {},
   "outputs": [],
   "source": [
    "tokenizer = transformers.AutoTokenizer.from_pretrained(\n",
    "    \"lmsys/vicuna-7b-v1.5-16k\",\n",
    "    use_fast=True\n",
    ")"
   ]
  },
  {
   "cell_type": "code",
   "execution_count": 4,
   "metadata": {},
   "outputs": [
    {
     "name": "stdout",
     "output_type": "stream",
     "text": [
      "\n",
      "===================================BUG REPORT===================================\n",
      "Welcome to bitsandbytes. For bug reports, please run\n",
      "\n",
      "python -m bitsandbytes\n",
      "\n",
      " and submit this information together with your error trace to: https://github.com/TimDettmers/bitsandbytes/issues\n",
      "================================================================================\n",
      "bin /data/tianle/anaconda3/envs/fastchat/lib/python3.9/site-packages/bitsandbytes-0.39.1-py3.9.egg/bitsandbytes/libbitsandbytes_cuda122.so\n",
      "CUDA SETUP: CUDA runtime path found: /usr/local/cuda/lib64/libcudart.so\n",
      "CUDA SETUP: Highest compute capability among GPUs detected: 8.6\n",
      "CUDA SETUP: Detected CUDA version 122\n",
      "CUDA SETUP: Loading binary /data/tianle/anaconda3/envs/fastchat/lib/python3.9/site-packages/bitsandbytes-0.39.1-py3.9.egg/bitsandbytes/libbitsandbytes_cuda122.so...\n"
     ]
    },
    {
     "name": "stderr",
     "output_type": "stream",
     "text": [
      "/data/tianle/anaconda3/envs/fastchat/lib/python3.9/site-packages/bitsandbytes-0.39.1-py3.9.egg/bitsandbytes/cuda_setup/main.py:149: UserWarning: /data/tianle/anaconda3/envs/fastchat did not contain ['libcudart.so', 'libcudart.so.11.0', 'libcudart.so.12.0'] as expected! Searching further paths...\n",
      "  warn(msg)\n"
     ]
    },
    {
     "name": "stdout",
     "output_type": "stream",
     "text": [
      "[2023-10-10 01:39:25,998] [INFO] [real_accelerator.py:133:get_accelerator] Setting ds_accelerator to cuda (auto detect)\n"
     ]
    },
    {
     "data": {
      "application/vnd.jupyter.widget-view+json": {
       "model_id": "16e537397cbe4a8c807f69859484a6ab",
       "version_major": 2,
       "version_minor": 0
      },
      "text/plain": [
       "Loading checkpoint shards:   0%|          | 0/2 [00:00<?, ?it/s]"
      ]
     },
     "metadata": {},
     "output_type": "display_data"
    },
    {
     "name": "stderr",
     "output_type": "stream",
     "text": [
      "/data/tianle/anaconda3/envs/fastchat/lib/python3.9/site-packages/transformers/generation/configuration_utils.py:362: UserWarning: `do_sample` is set to `False`. However, `temperature` is set to `0.9` -- this flag is only used in sample-based generation modes. You should set `do_sample=True` or unset `temperature`. This was detected when initializing the generation config instance, which means the corresponding file may hold incorrect parameterization and should be fixed.\n",
      "  warnings.warn(\n",
      "/data/tianle/anaconda3/envs/fastchat/lib/python3.9/site-packages/transformers/generation/configuration_utils.py:367: UserWarning: `do_sample` is set to `False`. However, `top_p` is set to `0.6` -- this flag is only used in sample-based generation modes. You should set `do_sample=True` or unset `top_p`. This was detected when initializing the generation config instance, which means the corresponding file may hold incorrect parameterization and should be fixed.\n",
      "  warnings.warn(\n"
     ]
    },
    {
     "data": {
      "application/vnd.jupyter.widget-view+json": {
       "model_id": "7783ed882b9c4aa1ac2861ff55101652",
       "version_major": 2,
       "version_minor": 0
      },
      "text/plain": [
       "Loading checkpoint shards:   0%|          | 0/2 [00:00<?, ?it/s]"
      ]
     },
     "metadata": {},
     "output_type": "display_data"
    },
    {
     "data": {
      "application/vnd.jupyter.widget-view+json": {
       "model_id": "e923d36c19254614a0d6dfd7bfde7962",
       "version_major": 2,
       "version_minor": 0
      },
      "text/plain": [
       "Loading checkpoint shards:   0%|          | 0/2 [00:00<?, ?it/s]"
      ]
     },
     "metadata": {},
     "output_type": "display_data"
    }
   ],
   "source": [
    "finetuned_model = transformers.AutoModelForCausalLM.from_pretrained(\n",
    "    \"lmsys/vicuna-7b-v1.5-16k\",\n",
    "    torch_dtype=torch.bfloat16,\n",
    "    low_cpu_mem_usage=True,\n",
    ").to(\"cuda:0\")\n",
    "\n",
    "base_model = transformers.AutoModelForCausalLM.from_pretrained(\n",
    "    \"meta-llama/Llama-2-7b-hf\",\n",
    "    torch_dtype=torch.bfloat16,\n",
    "    low_cpu_mem_usage=True,\n",
    ").to(\"cuda:0\")\n",
    "\n",
    "finetuned_compressed_model = transformers.AutoModelForCausalLM.from_pretrained(\n",
    "    \"lmsys/vicuna-7b-v1.5-16k\",\n",
    "    torch_dtype=torch.bfloat16,\n",
    "    low_cpu_mem_usage=True,\n",
    ").to(\"cuda:1\")"
   ]
  },
  {
   "cell_type": "code",
   "execution_count": 5,
   "metadata": {},
   "outputs": [
    {
     "name": "stderr",
     "output_type": "stream",
     "text": [
      "Repo card metadata block was not found. Setting CardData to empty.\n"
     ]
    }
   ],
   "source": [
    "dataset = load_dataset(\n",
    "    \"allenai/c4\", \n",
    "    data_dir=\"en\",\n",
    "    split=\"train\",\n",
    "    data_files=[\"c4-train.00000-of-01024.json.gz\"]\n",
    ")"
   ]
  },
  {
   "cell_type": "code",
   "execution_count": 12,
   "metadata": {},
   "outputs": [],
   "source": [
    "class TernaryDiff(nn.Module):\n",
    "    def __init__(self, base, finetune, quantile=0.66, binary=False):\n",
    "        super().__init__()\n",
    "        diff = finetune - base\n",
    "        # Cannot directly use torch.quantile because the tensor is too large\n",
    "        if binary:\n",
    "            threshold = 0\n",
    "            quantile = diff.float().abs().median()\n",
    "        else:\n",
    "            threshold = quantile = diff.float().abs().view(-1).kthvalue(int(diff.numel() * quantile)).values\n",
    "        ternary_diff = torch.zeros_like(diff)\n",
    "        ternary_diff[diff > threshold] = 1\n",
    "        ternary_diff[diff < -threshold] = -1\n",
    "        print(quantile, (ternary_diff*quantile-diff).abs().mean()/diff.abs().mean())\n",
    "        \n",
    "        self.register_buffer(\"ternary_diff\", ternary_diff.T)\n",
    "        self.register_buffer(\"base\", base.T)\n",
    "        self.register_parameter(\"coeff\", nn.Parameter(torch.tensor(quantile, dtype=base.dtype, device=base.device)))\n",
    "\n",
    "    def forward(self, x):\n",
    "        x = x @ (self.base + self.coeff * self.ternary_diff)\n",
    "        return x"
   ]
  },
  {
   "cell_type": "code",
   "execution_count": 13,
   "metadata": {},
   "outputs": [
    {
     "name": "stdout",
     "output_type": "stream",
     "text": [
      "tensor(0.0003, device='cuda:0', grad_fn=<MedianBackward0>) tensor(0.6328, device='cuda:0', dtype=torch.bfloat16, grad_fn=<DivBackward0>)\n",
      "tensor(0.0004, device='cuda:0', grad_fn=<MedianBackward0>) tensor(0.6328, device='cuda:0', dtype=torch.bfloat16, grad_fn=<DivBackward0>)\n",
      "tensor(0.0004, device='cuda:0', grad_fn=<MedianBackward0>) tensor(0.5781, device='cuda:0', dtype=torch.bfloat16, grad_fn=<DivBackward0>)\n",
      "tensor(0.0004, device='cuda:0', grad_fn=<MedianBackward0>) tensor(0.5859, device='cuda:0', dtype=torch.bfloat16, grad_fn=<DivBackward0>)\n",
      "tensor(0.0005, device='cuda:0', grad_fn=<MedianBackward0>) tensor(0.5586, device='cuda:0', dtype=torch.bfloat16, grad_fn=<DivBackward0>)\n",
      "tensor(0.0005, device='cuda:0', grad_fn=<MedianBackward0>) tensor(0.5586, device='cuda:0', dtype=torch.bfloat16, grad_fn=<DivBackward0>)\n",
      "tensor(0.0005, device='cuda:0', grad_fn=<MedianBackward0>) tensor(0.5586, device='cuda:0', dtype=torch.bfloat16, grad_fn=<DivBackward0>)\n",
      "tensor(0.0005, device='cuda:0', grad_fn=<MedianBackward0>) tensor(0.5859, device='cuda:0', dtype=torch.bfloat16, grad_fn=<DivBackward0>)\n",
      "tensor(0.0005, device='cuda:0', grad_fn=<MedianBackward0>) tensor(0.5703, device='cuda:0', dtype=torch.bfloat16, grad_fn=<DivBackward0>)\n",
      "tensor(0.0004, device='cuda:0', grad_fn=<MedianBackward0>) tensor(0.5859, device='cuda:0', dtype=torch.bfloat16, grad_fn=<DivBackward0>)\n",
      "tensor(0.0004, device='cuda:0', grad_fn=<MedianBackward0>) tensor(0.5820, device='cuda:0', dtype=torch.bfloat16, grad_fn=<DivBackward0>)\n",
      "tensor(0.0005, device='cuda:0', grad_fn=<MedianBackward0>) tensor(0.5586, device='cuda:0', dtype=torch.bfloat16, grad_fn=<DivBackward0>)\n"
     ]
    },
    {
     "name": "stderr",
     "output_type": "stream",
     "text": [
      "/tmp/ipykernel_1514471/1123998809.py:18: UserWarning: To copy construct from a tensor, it is recommended to use sourceTensor.clone().detach() or sourceTensor.clone().detach().requires_grad_(True), rather than torch.tensor(sourceTensor).\n",
      "  self.register_parameter(\"coeff\", nn.Parameter(torch.tensor(quantile, dtype=base.dtype, device=base.device)))\n"
     ]
    },
    {
     "name": "stdout",
     "output_type": "stream",
     "text": [
      "tensor(0.0005, device='cuda:0', grad_fn=<MedianBackward0>) tensor(0.5625, device='cuda:0', dtype=torch.bfloat16, grad_fn=<DivBackward0>)\n",
      "tensor(0.0005, device='cuda:0', grad_fn=<MedianBackward0>) tensor(0.5664, device='cuda:0', dtype=torch.bfloat16, grad_fn=<DivBackward0>)\n",
      "tensor(0.0005, device='cuda:0', grad_fn=<MedianBackward0>) tensor(0.5508, device='cuda:0', dtype=torch.bfloat16, grad_fn=<DivBackward0>)\n",
      "tensor(0.0005, device='cuda:0', grad_fn=<MedianBackward0>) tensor(0.5547, device='cuda:0', dtype=torch.bfloat16, grad_fn=<DivBackward0>)\n",
      "tensor(0.0004, device='cuda:0', grad_fn=<MedianBackward0>) tensor(0.5703, device='cuda:0', dtype=torch.bfloat16, grad_fn=<DivBackward0>)\n",
      "tensor(0.0005, device='cuda:0', grad_fn=<MedianBackward0>) tensor(0.5703, device='cuda:0', dtype=torch.bfloat16, grad_fn=<DivBackward0>)\n",
      "tensor(0.0005, device='cuda:0', grad_fn=<MedianBackward0>) tensor(0.5625, device='cuda:0', dtype=torch.bfloat16, grad_fn=<DivBackward0>)\n",
      "tensor(0.0005, device='cuda:0', grad_fn=<MedianBackward0>) tensor(0.5625, device='cuda:0', dtype=torch.bfloat16, grad_fn=<DivBackward0>)\n",
      "tensor(0.0005, device='cuda:0', grad_fn=<MedianBackward0>) tensor(0.5625, device='cuda:0', dtype=torch.bfloat16, grad_fn=<DivBackward0>)\n",
      "tensor(0.0005, device='cuda:0', grad_fn=<MedianBackward0>) tensor(0.5547, device='cuda:0', dtype=torch.bfloat16, grad_fn=<DivBackward0>)\n",
      "tensor(0.0005, device='cuda:0', grad_fn=<MedianBackward0>) tensor(0.5547, device='cuda:0', dtype=torch.bfloat16, grad_fn=<DivBackward0>)\n",
      "tensor(0.0005, device='cuda:0', grad_fn=<MedianBackward0>) tensor(0.5742, device='cuda:0', dtype=torch.bfloat16, grad_fn=<DivBackward0>)\n",
      "tensor(0.0005, device='cuda:0', grad_fn=<MedianBackward0>) tensor(0.5703, device='cuda:0', dtype=torch.bfloat16, grad_fn=<DivBackward0>)\n",
      "tensor(0.0005, device='cuda:0', grad_fn=<MedianBackward0>) tensor(0.5625, device='cuda:0', dtype=torch.bfloat16, grad_fn=<DivBackward0>)\n",
      "tensor(0.0005, device='cuda:0', grad_fn=<MedianBackward0>) tensor(0.5625, device='cuda:0', dtype=torch.bfloat16, grad_fn=<DivBackward0>)\n",
      "tensor(0.0005, device='cuda:0', grad_fn=<MedianBackward0>) tensor(0.5664, device='cuda:0', dtype=torch.bfloat16, grad_fn=<DivBackward0>)\n",
      "tensor(0.0005, device='cuda:0', grad_fn=<MedianBackward0>) tensor(0.5586, device='cuda:0', dtype=torch.bfloat16, grad_fn=<DivBackward0>)\n",
      "tensor(0.0005, device='cuda:0', grad_fn=<MedianBackward0>) tensor(0.5547, device='cuda:0', dtype=torch.bfloat16, grad_fn=<DivBackward0>)\n",
      "tensor(0.0005, device='cuda:0', grad_fn=<MedianBackward0>) tensor(0.5664, device='cuda:0', dtype=torch.bfloat16, grad_fn=<DivBackward0>)\n",
      "tensor(0.0005, device='cuda:0', grad_fn=<MedianBackward0>) tensor(0.5703, device='cuda:0', dtype=torch.bfloat16, grad_fn=<DivBackward0>)\n",
      "tensor(0.0005, device='cuda:0', grad_fn=<MedianBackward0>) tensor(0.5625, device='cuda:0', dtype=torch.bfloat16, grad_fn=<DivBackward0>)\n",
      "tensor(0.0005, device='cuda:0', grad_fn=<MedianBackward0>) tensor(0.5664, device='cuda:0', dtype=torch.bfloat16, grad_fn=<DivBackward0>)\n",
      "tensor(0.0005, device='cuda:0', grad_fn=<MedianBackward0>) tensor(0.5664, device='cuda:0', dtype=torch.bfloat16, grad_fn=<DivBackward0>)\n",
      "tensor(0.0005, device='cuda:0', grad_fn=<MedianBackward0>) tensor(0.5547, device='cuda:0', dtype=torch.bfloat16, grad_fn=<DivBackward0>)\n",
      "tensor(0.0005, device='cuda:0', grad_fn=<MedianBackward0>) tensor(0.5547, device='cuda:0', dtype=torch.bfloat16, grad_fn=<DivBackward0>)\n",
      "tensor(0.0005, device='cuda:0', grad_fn=<MedianBackward0>) tensor(0.5703, device='cuda:0', dtype=torch.bfloat16, grad_fn=<DivBackward0>)\n",
      "tensor(0.0005, device='cuda:0', grad_fn=<MedianBackward0>) tensor(0.5664, device='cuda:0', dtype=torch.bfloat16, grad_fn=<DivBackward0>)\n",
      "tensor(0.0006, device='cuda:0', grad_fn=<MedianBackward0>) tensor(0.5625, device='cuda:0', dtype=torch.bfloat16, grad_fn=<DivBackward0>)\n",
      "tensor(0.0005, device='cuda:0', grad_fn=<MedianBackward0>) tensor(0.5625, device='cuda:0', dtype=torch.bfloat16, grad_fn=<DivBackward0>)\n",
      "tensor(0.0005, device='cuda:0', grad_fn=<MedianBackward0>) tensor(0.5625, device='cuda:0', dtype=torch.bfloat16, grad_fn=<DivBackward0>)\n",
      "tensor(0.0005, device='cuda:0', grad_fn=<MedianBackward0>) tensor(0.5586, device='cuda:0', dtype=torch.bfloat16, grad_fn=<DivBackward0>)\n",
      "tensor(0.0005, device='cuda:0', grad_fn=<MedianBackward0>) tensor(0.5586, device='cuda:0', dtype=torch.bfloat16, grad_fn=<DivBackward0>)\n",
      "tensor(0.0005, device='cuda:0', grad_fn=<MedianBackward0>) tensor(0.5703, device='cuda:0', dtype=torch.bfloat16, grad_fn=<DivBackward0>)\n",
      "tensor(0.0005, device='cuda:0', grad_fn=<MedianBackward0>) tensor(0.5703, device='cuda:0', dtype=torch.bfloat16, grad_fn=<DivBackward0>)\n",
      "tensor(0.0006, device='cuda:0', grad_fn=<MedianBackward0>) tensor(0.5625, device='cuda:0', dtype=torch.bfloat16, grad_fn=<DivBackward0>)\n",
      "tensor(0.0005, device='cuda:0', grad_fn=<MedianBackward0>) tensor(0.5625, device='cuda:0', dtype=torch.bfloat16, grad_fn=<DivBackward0>)\n",
      "tensor(0.0005, device='cuda:0', grad_fn=<MedianBackward0>) tensor(0.5664, device='cuda:0', dtype=torch.bfloat16, grad_fn=<DivBackward0>)\n",
      "tensor(0.0005, device='cuda:0', grad_fn=<MedianBackward0>) tensor(0.5586, device='cuda:0', dtype=torch.bfloat16, grad_fn=<DivBackward0>)\n",
      "tensor(0.0005, device='cuda:0', grad_fn=<MedianBackward0>) tensor(0.5586, device='cuda:0', dtype=torch.bfloat16, grad_fn=<DivBackward0>)\n",
      "tensor(0.0005, device='cuda:0', grad_fn=<MedianBackward0>) tensor(0.5703, device='cuda:0', dtype=torch.bfloat16, grad_fn=<DivBackward0>)\n",
      "tensor(0.0005, device='cuda:0', grad_fn=<MedianBackward0>) tensor(0.5703, device='cuda:0', dtype=torch.bfloat16, grad_fn=<DivBackward0>)\n",
      "tensor(0.0006, device='cuda:0', grad_fn=<MedianBackward0>) tensor(0.5625, device='cuda:0', dtype=torch.bfloat16, grad_fn=<DivBackward0>)\n",
      "tensor(0.0005, device='cuda:0', grad_fn=<MedianBackward0>) tensor(0.5664, device='cuda:0', dtype=torch.bfloat16, grad_fn=<DivBackward0>)\n",
      "tensor(0.0005, device='cuda:0', grad_fn=<MedianBackward0>) tensor(0.5703, device='cuda:0', dtype=torch.bfloat16, grad_fn=<DivBackward0>)\n",
      "tensor(0.0006, device='cuda:0', grad_fn=<MedianBackward0>) tensor(0.5586, device='cuda:0', dtype=torch.bfloat16, grad_fn=<DivBackward0>)\n",
      "tensor(0.0006, device='cuda:0', grad_fn=<MedianBackward0>) tensor(0.5625, device='cuda:0', dtype=torch.bfloat16, grad_fn=<DivBackward0>)\n",
      "tensor(0.0005, device='cuda:0', grad_fn=<MedianBackward0>) tensor(0.5664, device='cuda:0', dtype=torch.bfloat16, grad_fn=<DivBackward0>)\n",
      "tensor(0.0005, device='cuda:0', grad_fn=<MedianBackward0>) tensor(0.5703, device='cuda:0', dtype=torch.bfloat16, grad_fn=<DivBackward0>)\n",
      "tensor(0.0006, device='cuda:0', grad_fn=<MedianBackward0>) tensor(0.5625, device='cuda:0', dtype=torch.bfloat16, grad_fn=<DivBackward0>)\n",
      "tensor(0.0005, device='cuda:0', grad_fn=<MedianBackward0>) tensor(0.5664, device='cuda:0', dtype=torch.bfloat16, grad_fn=<DivBackward0>)\n",
      "tensor(0.0005, device='cuda:0', grad_fn=<MedianBackward0>) tensor(0.5664, device='cuda:0', dtype=torch.bfloat16, grad_fn=<DivBackward0>)\n",
      "tensor(0.0006, device='cuda:0', grad_fn=<MedianBackward0>) tensor(0.5586, device='cuda:0', dtype=torch.bfloat16, grad_fn=<DivBackward0>)\n",
      "tensor(0.0006, device='cuda:0', grad_fn=<MedianBackward0>) tensor(0.5586, device='cuda:0', dtype=torch.bfloat16, grad_fn=<DivBackward0>)\n",
      "tensor(0.0005, device='cuda:0', grad_fn=<MedianBackward0>) tensor(0.5664, device='cuda:0', dtype=torch.bfloat16, grad_fn=<DivBackward0>)\n",
      "tensor(0.0005, device='cuda:0', grad_fn=<MedianBackward0>) tensor(0.5703, device='cuda:0', dtype=torch.bfloat16, grad_fn=<DivBackward0>)\n",
      "tensor(0.0006, device='cuda:0', grad_fn=<MedianBackward0>) tensor(0.5625, device='cuda:0', dtype=torch.bfloat16, grad_fn=<DivBackward0>)\n",
      "tensor(0.0005, device='cuda:0', grad_fn=<MedianBackward0>) tensor(0.5703, device='cuda:0', dtype=torch.bfloat16, grad_fn=<DivBackward0>)\n",
      "tensor(0.0005, device='cuda:0', grad_fn=<MedianBackward0>) tensor(0.5703, device='cuda:0', dtype=torch.bfloat16, grad_fn=<DivBackward0>)\n",
      "tensor(0.0006, device='cuda:0', grad_fn=<MedianBackward0>) tensor(0.5586, device='cuda:0', dtype=torch.bfloat16, grad_fn=<DivBackward0>)\n",
      "tensor(0.0006, device='cuda:0', grad_fn=<MedianBackward0>) tensor(0.5586, device='cuda:0', dtype=torch.bfloat16, grad_fn=<DivBackward0>)\n",
      "tensor(0.0005, device='cuda:0', grad_fn=<MedianBackward0>) tensor(0.5664, device='cuda:0', dtype=torch.bfloat16, grad_fn=<DivBackward0>)\n",
      "tensor(0.0005, device='cuda:0', grad_fn=<MedianBackward0>) tensor(0.5664, device='cuda:0', dtype=torch.bfloat16, grad_fn=<DivBackward0>)\n",
      "tensor(0.0006, device='cuda:0', grad_fn=<MedianBackward0>) tensor(0.5625, device='cuda:0', dtype=torch.bfloat16, grad_fn=<DivBackward0>)\n",
      "tensor(0.0006, device='cuda:0', grad_fn=<MedianBackward0>) tensor(0.5664, device='cuda:0', dtype=torch.bfloat16, grad_fn=<DivBackward0>)\n",
      "tensor(0.0005, device='cuda:0', grad_fn=<MedianBackward0>) tensor(0.5703, device='cuda:0', dtype=torch.bfloat16, grad_fn=<DivBackward0>)\n",
      "tensor(0.0006, device='cuda:0', grad_fn=<MedianBackward0>) tensor(0.5625, device='cuda:0', dtype=torch.bfloat16, grad_fn=<DivBackward0>)\n",
      "tensor(0.0006, device='cuda:0', grad_fn=<MedianBackward0>) tensor(0.5625, device='cuda:0', dtype=torch.bfloat16, grad_fn=<DivBackward0>)\n",
      "tensor(0.0005, device='cuda:0', grad_fn=<MedianBackward0>) tensor(0.5703, device='cuda:0', dtype=torch.bfloat16, grad_fn=<DivBackward0>)\n",
      "tensor(0.0005, device='cuda:0', grad_fn=<MedianBackward0>) tensor(0.5703, device='cuda:0', dtype=torch.bfloat16, grad_fn=<DivBackward0>)\n",
      "tensor(0.0006, device='cuda:0', grad_fn=<MedianBackward0>) tensor(0.5664, device='cuda:0', dtype=torch.bfloat16, grad_fn=<DivBackward0>)\n",
      "tensor(0.0006, device='cuda:0', grad_fn=<MedianBackward0>) tensor(0.5664, device='cuda:0', dtype=torch.bfloat16, grad_fn=<DivBackward0>)\n",
      "tensor(0.0006, device='cuda:0', grad_fn=<MedianBackward0>) tensor(0.5664, device='cuda:0', dtype=torch.bfloat16, grad_fn=<DivBackward0>)\n",
      "tensor(0.0006, device='cuda:0', grad_fn=<MedianBackward0>) tensor(0.5586, device='cuda:0', dtype=torch.bfloat16, grad_fn=<DivBackward0>)\n",
      "tensor(0.0006, device='cuda:0', grad_fn=<MedianBackward0>) tensor(0.5625, device='cuda:0', dtype=torch.bfloat16, grad_fn=<DivBackward0>)\n",
      "tensor(0.0005, device='cuda:0', grad_fn=<MedianBackward0>) tensor(0.5664, device='cuda:0', dtype=torch.bfloat16, grad_fn=<DivBackward0>)\n",
      "tensor(0.0005, device='cuda:0', grad_fn=<MedianBackward0>) tensor(0.5703, device='cuda:0', dtype=torch.bfloat16, grad_fn=<DivBackward0>)\n",
      "tensor(0.0006, device='cuda:0', grad_fn=<MedianBackward0>) tensor(0.5664, device='cuda:0', dtype=torch.bfloat16, grad_fn=<DivBackward0>)\n",
      "tensor(0.0006, device='cuda:0', grad_fn=<MedianBackward0>) tensor(0.5625, device='cuda:0', dtype=torch.bfloat16, grad_fn=<DivBackward0>)\n",
      "tensor(0.0006, device='cuda:0', grad_fn=<MedianBackward0>) tensor(0.5625, device='cuda:0', dtype=torch.bfloat16, grad_fn=<DivBackward0>)\n",
      "tensor(0.0006, device='cuda:0', grad_fn=<MedianBackward0>) tensor(0.5625, device='cuda:0', dtype=torch.bfloat16, grad_fn=<DivBackward0>)\n",
      "tensor(0.0006, device='cuda:0', grad_fn=<MedianBackward0>) tensor(0.5664, device='cuda:0', dtype=torch.bfloat16, grad_fn=<DivBackward0>)\n",
      "tensor(0.0005, device='cuda:0', grad_fn=<MedianBackward0>) tensor(0.5703, device='cuda:0', dtype=torch.bfloat16, grad_fn=<DivBackward0>)\n",
      "tensor(0.0005, device='cuda:0', grad_fn=<MedianBackward0>) tensor(0.5703, device='cuda:0', dtype=torch.bfloat16, grad_fn=<DivBackward0>)\n",
      "tensor(0.0006, device='cuda:0', grad_fn=<MedianBackward0>) tensor(0.5664, device='cuda:0', dtype=torch.bfloat16, grad_fn=<DivBackward0>)\n",
      "tensor(0.0006, device='cuda:0', grad_fn=<MedianBackward0>) tensor(0.5625, device='cuda:0', dtype=torch.bfloat16, grad_fn=<DivBackward0>)\n",
      "tensor(0.0006, device='cuda:0', grad_fn=<MedianBackward0>) tensor(0.5625, device='cuda:0', dtype=torch.bfloat16, grad_fn=<DivBackward0>)\n",
      "tensor(0.0006, device='cuda:0', grad_fn=<MedianBackward0>) tensor(0.5625, device='cuda:0', dtype=torch.bfloat16, grad_fn=<DivBackward0>)\n",
      "tensor(0.0006, device='cuda:0', grad_fn=<MedianBackward0>) tensor(0.5664, device='cuda:0', dtype=torch.bfloat16, grad_fn=<DivBackward0>)\n",
      "tensor(0.0005, device='cuda:0', grad_fn=<MedianBackward0>) tensor(0.5664, device='cuda:0', dtype=torch.bfloat16, grad_fn=<DivBackward0>)\n",
      "tensor(0.0005, device='cuda:0', grad_fn=<MedianBackward0>) tensor(0.5703, device='cuda:0', dtype=torch.bfloat16, grad_fn=<DivBackward0>)\n",
      "tensor(0.0006, device='cuda:0', grad_fn=<MedianBackward0>) tensor(0.5664, device='cuda:0', dtype=torch.bfloat16, grad_fn=<DivBackward0>)\n",
      "tensor(0.0006, device='cuda:0', grad_fn=<MedianBackward0>) tensor(0.5625, device='cuda:0', dtype=torch.bfloat16, grad_fn=<DivBackward0>)\n",
      "tensor(0.0006, device='cuda:0', grad_fn=<MedianBackward0>) tensor(0.5664, device='cuda:0', dtype=torch.bfloat16, grad_fn=<DivBackward0>)\n",
      "tensor(0.0006, device='cuda:0', grad_fn=<MedianBackward0>) tensor(0.5625, device='cuda:0', dtype=torch.bfloat16, grad_fn=<DivBackward0>)\n",
      "tensor(0.0006, device='cuda:0', grad_fn=<MedianBackward0>) tensor(0.5625, device='cuda:0', dtype=torch.bfloat16, grad_fn=<DivBackward0>)\n",
      "tensor(0.0005, device='cuda:0', grad_fn=<MedianBackward0>) tensor(0.5664, device='cuda:0', dtype=torch.bfloat16, grad_fn=<DivBackward0>)\n",
      "tensor(0.0005, device='cuda:0', grad_fn=<MedianBackward0>) tensor(0.5703, device='cuda:0', dtype=torch.bfloat16, grad_fn=<DivBackward0>)\n",
      "tensor(0.0006, device='cuda:0', grad_fn=<MedianBackward0>) tensor(0.5664, device='cuda:0', dtype=torch.bfloat16, grad_fn=<DivBackward0>)\n",
      "tensor(0.0006, device='cuda:0', grad_fn=<MedianBackward0>) tensor(0.5664, device='cuda:0', dtype=torch.bfloat16, grad_fn=<DivBackward0>)\n",
      "tensor(0.0006, device='cuda:0', grad_fn=<MedianBackward0>) tensor(0.5625, device='cuda:0', dtype=torch.bfloat16, grad_fn=<DivBackward0>)\n",
      "tensor(0.0006, device='cuda:0', grad_fn=<MedianBackward0>) tensor(0.5625, device='cuda:0', dtype=torch.bfloat16, grad_fn=<DivBackward0>)\n",
      "tensor(0.0006, device='cuda:0', grad_fn=<MedianBackward0>) tensor(0.5664, device='cuda:0', dtype=torch.bfloat16, grad_fn=<DivBackward0>)\n",
      "tensor(0.0005, device='cuda:0', grad_fn=<MedianBackward0>) tensor(0.5625, device='cuda:0', dtype=torch.bfloat16, grad_fn=<DivBackward0>)\n",
      "tensor(0.0005, device='cuda:0', grad_fn=<MedianBackward0>) tensor(0.5703, device='cuda:0', dtype=torch.bfloat16, grad_fn=<DivBackward0>)\n",
      "tensor(0.0006, device='cuda:0', grad_fn=<MedianBackward0>) tensor(0.5664, device='cuda:0', dtype=torch.bfloat16, grad_fn=<DivBackward0>)\n",
      "tensor(0.0006, device='cuda:0', grad_fn=<MedianBackward0>) tensor(0.5625, device='cuda:0', dtype=torch.bfloat16, grad_fn=<DivBackward0>)\n",
      "tensor(0.0006, device='cuda:0', grad_fn=<MedianBackward0>) tensor(0.5664, device='cuda:0', dtype=torch.bfloat16, grad_fn=<DivBackward0>)\n",
      "tensor(0.0006, device='cuda:0', grad_fn=<MedianBackward0>) tensor(0.5664, device='cuda:0', dtype=torch.bfloat16, grad_fn=<DivBackward0>)\n",
      "tensor(0.0006, device='cuda:0', grad_fn=<MedianBackward0>) tensor(0.5664, device='cuda:0', dtype=torch.bfloat16, grad_fn=<DivBackward0>)\n",
      "tensor(0.0005, device='cuda:0', grad_fn=<MedianBackward0>) tensor(0.5664, device='cuda:0', dtype=torch.bfloat16, grad_fn=<DivBackward0>)\n",
      "tensor(0.0005, device='cuda:0', grad_fn=<MedianBackward0>) tensor(0.5703, device='cuda:0', dtype=torch.bfloat16, grad_fn=<DivBackward0>)\n",
      "tensor(0.0006, device='cuda:0', grad_fn=<MedianBackward0>) tensor(0.5664, device='cuda:0', dtype=torch.bfloat16, grad_fn=<DivBackward0>)\n",
      "tensor(0.0006, device='cuda:0', grad_fn=<MedianBackward0>) tensor(0.5625, device='cuda:0', dtype=torch.bfloat16, grad_fn=<DivBackward0>)\n",
      "tensor(0.0006, device='cuda:0', grad_fn=<MedianBackward0>) tensor(0.5625, device='cuda:0', dtype=torch.bfloat16, grad_fn=<DivBackward0>)\n",
      "tensor(0.0006, device='cuda:0', grad_fn=<MedianBackward0>) tensor(0.5664, device='cuda:0', dtype=torch.bfloat16, grad_fn=<DivBackward0>)\n",
      "tensor(0.0006, device='cuda:0', grad_fn=<MedianBackward0>) tensor(0.5625, device='cuda:0', dtype=torch.bfloat16, grad_fn=<DivBackward0>)\n",
      "tensor(0.0005, device='cuda:0', grad_fn=<MedianBackward0>) tensor(0.5664, device='cuda:0', dtype=torch.bfloat16, grad_fn=<DivBackward0>)\n",
      "tensor(0.0005, device='cuda:0', grad_fn=<MedianBackward0>) tensor(0.5664, device='cuda:0', dtype=torch.bfloat16, grad_fn=<DivBackward0>)\n",
      "tensor(0.0006, device='cuda:0', grad_fn=<MedianBackward0>) tensor(0.5664, device='cuda:0', dtype=torch.bfloat16, grad_fn=<DivBackward0>)\n",
      "tensor(0.0006, device='cuda:0', grad_fn=<MedianBackward0>) tensor(0.5625, device='cuda:0', dtype=torch.bfloat16, grad_fn=<DivBackward0>)\n",
      "tensor(0.0006, device='cuda:0', grad_fn=<MedianBackward0>) tensor(0.5664, device='cuda:0', dtype=torch.bfloat16, grad_fn=<DivBackward0>)\n",
      "tensor(0.0006, device='cuda:0', grad_fn=<MedianBackward0>) tensor(0.5664, device='cuda:0', dtype=torch.bfloat16, grad_fn=<DivBackward0>)\n",
      "tensor(0.0006, device='cuda:0', grad_fn=<MedianBackward0>) tensor(0.5625, device='cuda:0', dtype=torch.bfloat16, grad_fn=<DivBackward0>)\n",
      "tensor(0.0005, device='cuda:0', grad_fn=<MedianBackward0>) tensor(0.5664, device='cuda:0', dtype=torch.bfloat16, grad_fn=<DivBackward0>)\n",
      "tensor(0.0005, device='cuda:0', grad_fn=<MedianBackward0>) tensor(0.5703, device='cuda:0', dtype=torch.bfloat16, grad_fn=<DivBackward0>)\n",
      "tensor(0.0006, device='cuda:0', grad_fn=<MedianBackward0>) tensor(0.5625, device='cuda:0', dtype=torch.bfloat16, grad_fn=<DivBackward0>)\n",
      "tensor(0.0006, device='cuda:0', grad_fn=<MedianBackward0>) tensor(0.5625, device='cuda:0', dtype=torch.bfloat16, grad_fn=<DivBackward0>)\n",
      "tensor(0.0006, device='cuda:0', grad_fn=<MedianBackward0>) tensor(0.5625, device='cuda:0', dtype=torch.bfloat16, grad_fn=<DivBackward0>)\n",
      "tensor(0.0006, device='cuda:0', grad_fn=<MedianBackward0>) tensor(0.5625, device='cuda:0', dtype=torch.bfloat16, grad_fn=<DivBackward0>)\n",
      "tensor(0.0006, device='cuda:0', grad_fn=<MedianBackward0>) tensor(0.5625, device='cuda:0', dtype=torch.bfloat16, grad_fn=<DivBackward0>)\n",
      "tensor(0.0005, device='cuda:0', grad_fn=<MedianBackward0>) tensor(0.5664, device='cuda:0', dtype=torch.bfloat16, grad_fn=<DivBackward0>)\n",
      "tensor(0.0005, device='cuda:0', grad_fn=<MedianBackward0>) tensor(0.5664, device='cuda:0', dtype=torch.bfloat16, grad_fn=<DivBackward0>)\n",
      "tensor(0.0006, device='cuda:0', grad_fn=<MedianBackward0>) tensor(0.5625, device='cuda:0', dtype=torch.bfloat16, grad_fn=<DivBackward0>)\n",
      "tensor(0.0006, device='cuda:0', grad_fn=<MedianBackward0>) tensor(0.5625, device='cuda:0', dtype=torch.bfloat16, grad_fn=<DivBackward0>)\n",
      "tensor(0.0006, device='cuda:0', grad_fn=<MedianBackward0>) tensor(0.5625, device='cuda:0', dtype=torch.bfloat16, grad_fn=<DivBackward0>)\n",
      "tensor(0.0006, device='cuda:0', grad_fn=<MedianBackward0>) tensor(0.5625, device='cuda:0', dtype=torch.bfloat16, grad_fn=<DivBackward0>)\n",
      "tensor(0.0006, device='cuda:0', grad_fn=<MedianBackward0>) tensor(0.5625, device='cuda:0', dtype=torch.bfloat16, grad_fn=<DivBackward0>)\n",
      "tensor(0.0005, device='cuda:0', grad_fn=<MedianBackward0>) tensor(0.5664, device='cuda:0', dtype=torch.bfloat16, grad_fn=<DivBackward0>)\n",
      "tensor(0.0006, device='cuda:0', grad_fn=<MedianBackward0>) tensor(0.5664, device='cuda:0', dtype=torch.bfloat16, grad_fn=<DivBackward0>)\n",
      "tensor(0.0006, device='cuda:0', grad_fn=<MedianBackward0>) tensor(0.5625, device='cuda:0', dtype=torch.bfloat16, grad_fn=<DivBackward0>)\n",
      "tensor(0.0006, device='cuda:0', grad_fn=<MedianBackward0>) tensor(0.5625, device='cuda:0', dtype=torch.bfloat16, grad_fn=<DivBackward0>)\n",
      "tensor(0.0006, device='cuda:0', grad_fn=<MedianBackward0>) tensor(0.5664, device='cuda:0', dtype=torch.bfloat16, grad_fn=<DivBackward0>)\n",
      "tensor(0.0006, device='cuda:0', grad_fn=<MedianBackward0>) tensor(0.5625, device='cuda:0', dtype=torch.bfloat16, grad_fn=<DivBackward0>)\n",
      "tensor(0.0006, device='cuda:0', grad_fn=<MedianBackward0>) tensor(0.5625, device='cuda:0', dtype=torch.bfloat16, grad_fn=<DivBackward0>)\n",
      "tensor(0.0005, device='cuda:0', grad_fn=<MedianBackward0>) tensor(0.5664, device='cuda:0', dtype=torch.bfloat16, grad_fn=<DivBackward0>)\n",
      "tensor(0.0005, device='cuda:0', grad_fn=<MedianBackward0>) tensor(0.5664, device='cuda:0', dtype=torch.bfloat16, grad_fn=<DivBackward0>)\n",
      "tensor(0.0006, device='cuda:0', grad_fn=<MedianBackward0>) tensor(0.5625, device='cuda:0', dtype=torch.bfloat16, grad_fn=<DivBackward0>)\n",
      "tensor(0.0006, device='cuda:0', grad_fn=<MedianBackward0>) tensor(0.5625, device='cuda:0', dtype=torch.bfloat16, grad_fn=<DivBackward0>)\n",
      "tensor(0.0006, device='cuda:0', grad_fn=<MedianBackward0>) tensor(0.5625, device='cuda:0', dtype=torch.bfloat16, grad_fn=<DivBackward0>)\n",
      "tensor(0.0006, device='cuda:0', grad_fn=<MedianBackward0>) tensor(0.5625, device='cuda:0', dtype=torch.bfloat16, grad_fn=<DivBackward0>)\n",
      "tensor(0.0006, device='cuda:0', grad_fn=<MedianBackward0>) tensor(0.5625, device='cuda:0', dtype=torch.bfloat16, grad_fn=<DivBackward0>)\n",
      "tensor(0.0005, device='cuda:0', grad_fn=<MedianBackward0>) tensor(0.5664, device='cuda:0', dtype=torch.bfloat16, grad_fn=<DivBackward0>)\n",
      "tensor(0.0006, device='cuda:0', grad_fn=<MedianBackward0>) tensor(0.5664, device='cuda:0', dtype=torch.bfloat16, grad_fn=<DivBackward0>)\n",
      "tensor(0.0006, device='cuda:0', grad_fn=<MedianBackward0>) tensor(0.5625, device='cuda:0', dtype=torch.bfloat16, grad_fn=<DivBackward0>)\n",
      "tensor(0.0006, device='cuda:0', grad_fn=<MedianBackward0>) tensor(0.5625, device='cuda:0', dtype=torch.bfloat16, grad_fn=<DivBackward0>)\n",
      "tensor(0.0006, device='cuda:0', grad_fn=<MedianBackward0>) tensor(0.5625, device='cuda:0', dtype=torch.bfloat16, grad_fn=<DivBackward0>)\n",
      "tensor(0.0006, device='cuda:0', grad_fn=<MedianBackward0>) tensor(0.5625, device='cuda:0', dtype=torch.bfloat16, grad_fn=<DivBackward0>)\n",
      "tensor(0.0006, device='cuda:0', grad_fn=<MedianBackward0>) tensor(0.5625, device='cuda:0', dtype=torch.bfloat16, grad_fn=<DivBackward0>)\n",
      "tensor(0.0005, device='cuda:0', grad_fn=<MedianBackward0>) tensor(0.5664, device='cuda:0', dtype=torch.bfloat16, grad_fn=<DivBackward0>)\n",
      "tensor(0.0005, device='cuda:0', grad_fn=<MedianBackward0>) tensor(0.5625, device='cuda:0', dtype=torch.bfloat16, grad_fn=<DivBackward0>)\n",
      "tensor(0.0006, device='cuda:0', grad_fn=<MedianBackward0>) tensor(0.5625, device='cuda:0', dtype=torch.bfloat16, grad_fn=<DivBackward0>)\n",
      "tensor(0.0006, device='cuda:0', grad_fn=<MedianBackward0>) tensor(0.5625, device='cuda:0', dtype=torch.bfloat16, grad_fn=<DivBackward0>)\n",
      "tensor(0.0006, device='cuda:0', grad_fn=<MedianBackward0>) tensor(0.5625, device='cuda:0', dtype=torch.bfloat16, grad_fn=<DivBackward0>)\n",
      "tensor(0.0006, device='cuda:0', grad_fn=<MedianBackward0>) tensor(0.5625, device='cuda:0', dtype=torch.bfloat16, grad_fn=<DivBackward0>)\n",
      "tensor(0.0006, device='cuda:0', grad_fn=<MedianBackward0>) tensor(0.5625, device='cuda:0', dtype=torch.bfloat16, grad_fn=<DivBackward0>)\n",
      "tensor(0.0005, device='cuda:0', grad_fn=<MedianBackward0>) tensor(0.5664, device='cuda:0', dtype=torch.bfloat16, grad_fn=<DivBackward0>)\n",
      "tensor(0.0005, device='cuda:0', grad_fn=<MedianBackward0>) tensor(0.5664, device='cuda:0', dtype=torch.bfloat16, grad_fn=<DivBackward0>)\n",
      "tensor(0.0006, device='cuda:0', grad_fn=<MedianBackward0>) tensor(0.5625, device='cuda:0', dtype=torch.bfloat16, grad_fn=<DivBackward0>)\n",
      "tensor(0.0006, device='cuda:0', grad_fn=<MedianBackward0>) tensor(0.5625, device='cuda:0', dtype=torch.bfloat16, grad_fn=<DivBackward0>)\n",
      "tensor(0.0006, device='cuda:0', grad_fn=<MedianBackward0>) tensor(0.5625, device='cuda:0', dtype=torch.bfloat16, grad_fn=<DivBackward0>)\n",
      "tensor(0.0006, device='cuda:0', grad_fn=<MedianBackward0>) tensor(0.5625, device='cuda:0', dtype=torch.bfloat16, grad_fn=<DivBackward0>)\n",
      "tensor(0.0006, device='cuda:0', grad_fn=<MedianBackward0>) tensor(0.5625, device='cuda:0', dtype=torch.bfloat16, grad_fn=<DivBackward0>)\n",
      "tensor(0.0005, device='cuda:0', grad_fn=<MedianBackward0>) tensor(0.5664, device='cuda:0', dtype=torch.bfloat16, grad_fn=<DivBackward0>)\n",
      "tensor(0.0005, device='cuda:0', grad_fn=<MedianBackward0>) tensor(0.5664, device='cuda:0', dtype=torch.bfloat16, grad_fn=<DivBackward0>)\n",
      "tensor(0.0006, device='cuda:0', grad_fn=<MedianBackward0>) tensor(0.5625, device='cuda:0', dtype=torch.bfloat16, grad_fn=<DivBackward0>)\n",
      "tensor(0.0006, device='cuda:0', grad_fn=<MedianBackward0>) tensor(0.5625, device='cuda:0', dtype=torch.bfloat16, grad_fn=<DivBackward0>)\n",
      "tensor(0.0006, device='cuda:0', grad_fn=<MedianBackward0>) tensor(0.5625, device='cuda:0', dtype=torch.bfloat16, grad_fn=<DivBackward0>)\n",
      "tensor(0.0006, device='cuda:0', grad_fn=<MedianBackward0>) tensor(0.5586, device='cuda:0', dtype=torch.bfloat16, grad_fn=<DivBackward0>)\n",
      "tensor(0.0006, device='cuda:0', grad_fn=<MedianBackward0>) tensor(0.5625, device='cuda:0', dtype=torch.bfloat16, grad_fn=<DivBackward0>)\n",
      "tensor(0.0005, device='cuda:0', grad_fn=<MedianBackward0>) tensor(0.5664, device='cuda:0', dtype=torch.bfloat16, grad_fn=<DivBackward0>)\n",
      "tensor(0.0005, device='cuda:0', grad_fn=<MedianBackward0>) tensor(0.5625, device='cuda:0', dtype=torch.bfloat16, grad_fn=<DivBackward0>)\n",
      "tensor(0.0006, device='cuda:0', grad_fn=<MedianBackward0>) tensor(0.5625, device='cuda:0', dtype=torch.bfloat16, grad_fn=<DivBackward0>)\n",
      "tensor(0.0006, device='cuda:0', grad_fn=<MedianBackward0>) tensor(0.5664, device='cuda:0', dtype=torch.bfloat16, grad_fn=<DivBackward0>)\n",
      "tensor(0.0006, device='cuda:0', grad_fn=<MedianBackward0>) tensor(0.5664, device='cuda:0', dtype=torch.bfloat16, grad_fn=<DivBackward0>)\n",
      "tensor(0.0006, device='cuda:0', grad_fn=<MedianBackward0>) tensor(0.5625, device='cuda:0', dtype=torch.bfloat16, grad_fn=<DivBackward0>)\n",
      "tensor(0.0006, device='cuda:0', grad_fn=<MedianBackward0>) tensor(0.5625, device='cuda:0', dtype=torch.bfloat16, grad_fn=<DivBackward0>)\n",
      "tensor(0.0005, device='cuda:0', grad_fn=<MedianBackward0>) tensor(0.5625, device='cuda:0', dtype=torch.bfloat16, grad_fn=<DivBackward0>)\n",
      "tensor(0.0005, device='cuda:0', grad_fn=<MedianBackward0>) tensor(0.5664, device='cuda:0', dtype=torch.bfloat16, grad_fn=<DivBackward0>)\n",
      "tensor(0.0006, device='cuda:0', grad_fn=<MedianBackward0>) tensor(0.5586, device='cuda:0', dtype=torch.bfloat16, grad_fn=<DivBackward0>)\n",
      "tensor(0.0006, device='cuda:0', grad_fn=<MedianBackward0>) tensor(0.5664, device='cuda:0', dtype=torch.bfloat16, grad_fn=<DivBackward0>)\n",
      "tensor(0.0005, device='cuda:0', grad_fn=<MedianBackward0>) tensor(0.5703, device='cuda:0', dtype=torch.bfloat16, grad_fn=<DivBackward0>)\n",
      "tensor(0.0006, device='cuda:0', grad_fn=<MedianBackward0>) tensor(0.5664, device='cuda:0', dtype=torch.bfloat16, grad_fn=<DivBackward0>)\n",
      "tensor(0.0006, device='cuda:0', grad_fn=<MedianBackward0>) tensor(0.5664, device='cuda:0', dtype=torch.bfloat16, grad_fn=<DivBackward0>)\n",
      "tensor(0.0005, device='cuda:0', grad_fn=<MedianBackward0>) tensor(0.5664, device='cuda:0', dtype=torch.bfloat16, grad_fn=<DivBackward0>)\n",
      "tensor(0.0005, device='cuda:0', grad_fn=<MedianBackward0>) tensor(0.5664, device='cuda:0', dtype=torch.bfloat16, grad_fn=<DivBackward0>)\n",
      "tensor(0.0006, device='cuda:0', grad_fn=<MedianBackward0>) tensor(0.5625, device='cuda:0', dtype=torch.bfloat16, grad_fn=<DivBackward0>)\n",
      "tensor(0.0005, device='cuda:0', grad_fn=<MedianBackward0>) tensor(0.5625, device='cuda:0', dtype=torch.bfloat16, grad_fn=<DivBackward0>)\n",
      "tensor(0.0005, device='cuda:0', grad_fn=<MedianBackward0>) tensor(0.5703, device='cuda:0', dtype=torch.bfloat16, grad_fn=<DivBackward0>)\n",
      "tensor(0.0006, device='cuda:0', grad_fn=<MedianBackward0>) tensor(0.5625, device='cuda:0', dtype=torch.bfloat16, grad_fn=<DivBackward0>)\n",
      "tensor(0.0006, device='cuda:0', grad_fn=<MedianBackward0>) tensor(0.5664, device='cuda:0', dtype=torch.bfloat16, grad_fn=<DivBackward0>)\n",
      "tensor(0.0005, device='cuda:0', grad_fn=<MedianBackward0>) tensor(0.5625, device='cuda:0', dtype=torch.bfloat16, grad_fn=<DivBackward0>)\n",
      "tensor(0.0005, device='cuda:0', grad_fn=<MedianBackward0>) tensor(0.5703, device='cuda:0', dtype=torch.bfloat16, grad_fn=<DivBackward0>)\n",
      "tensor(0.0006, device='cuda:0', grad_fn=<MedianBackward0>) tensor(0.5625, device='cuda:0', dtype=torch.bfloat16, grad_fn=<DivBackward0>)\n",
      "tensor(0.0005, device='cuda:0', grad_fn=<MedianBackward0>) tensor(0.5664, device='cuda:0', dtype=torch.bfloat16, grad_fn=<DivBackward0>)\n",
      "tensor(0.0005, device='cuda:0', grad_fn=<MedianBackward0>) tensor(0.5703, device='cuda:0', dtype=torch.bfloat16, grad_fn=<DivBackward0>)\n",
      "tensor(0.0006, device='cuda:0', grad_fn=<MedianBackward0>) tensor(0.5664, device='cuda:0', dtype=torch.bfloat16, grad_fn=<DivBackward0>)\n",
      "tensor(0.0006, device='cuda:0', grad_fn=<MedianBackward0>) tensor(0.5664, device='cuda:0', dtype=torch.bfloat16, grad_fn=<DivBackward0>)\n",
      "tensor(0.0005, device='cuda:0', grad_fn=<MedianBackward0>) tensor(0.5625, device='cuda:0', dtype=torch.bfloat16, grad_fn=<DivBackward0>)\n",
      "tensor(0.0005, device='cuda:0', grad_fn=<MedianBackward0>) tensor(0.5625, device='cuda:0', dtype=torch.bfloat16, grad_fn=<DivBackward0>)\n",
      "tensor(0.0005, device='cuda:0', grad_fn=<MedianBackward0>) tensor(0.5625, device='cuda:0', dtype=torch.bfloat16, grad_fn=<DivBackward0>)\n",
      "tensor(0.0005, device='cuda:0', grad_fn=<MedianBackward0>) tensor(0.5625, device='cuda:0', dtype=torch.bfloat16, grad_fn=<DivBackward0>)\n",
      "tensor(0.0004, device='cuda:0', grad_fn=<MedianBackward0>) tensor(0.5781, device='cuda:0', dtype=torch.bfloat16, grad_fn=<DivBackward0>)\n"
     ]
    }
   ],
   "source": [
    "for name, module in finetuned_compressed_model.named_modules():\n",
    "    if \"mlp\" in name or \"self_attn\" in name:\n",
    "        for subname, submodule in module.named_children():\n",
    "            if \"proj\" in subname:#isinstance(submodule, nn.Linear) or isinstance(submodule, compressedDiff):\n",
    "                compressed = TernaryDiff(\n",
    "                    base=base_model.get_submodule(name+'.'+subname).weight,\n",
    "                    finetune=finetuned_model.get_submodule(name+'.'+subname).weight,\n",
    "                    quantile=0.55,\n",
    "                    binary=True\n",
    "                )\n",
    "                compressed.to(finetuned_compressed_model.device)\n",
    "                setattr(module, subname, compressed)"
   ]
  },
  {
   "cell_type": "code",
   "execution_count": 14,
   "metadata": {},
   "outputs": [],
   "source": [
    "input_ids = tokenizer.encode(\"Hello, my dog is cute\", add_special_tokens=True, return_tensors=\"pt\")"
   ]
  },
  {
   "cell_type": "code",
   "execution_count": 15,
   "metadata": {},
   "outputs": [],
   "source": [
    "with torch.inference_mode():\n",
    "    finetuned_outputs = finetuned_model(input_ids.to(finetuned_model.device))\n",
    "    finetuned_compressed_outputs = finetuned_compressed_model(input_ids.to(finetuned_compressed_model.device))"
   ]
  },
  {
   "cell_type": "code",
   "execution_count": 16,
   "metadata": {},
   "outputs": [],
   "source": [
    "logits_diff = finetuned_outputs.logits.float().cpu() - finetuned_compressed_outputs.logits.float().cpu()"
   ]
  },
  {
   "cell_type": "code",
   "execution_count": 17,
   "metadata": {},
   "outputs": [
    {
     "data": {
      "image/png": "[encoded data removed]",
      "text/plain": [
       "<Figure size 1000x1000 with 1 Axes>"
      ]
     },
     "metadata": {},
     "output_type": "display_data"
    }
   ],
   "source": [
    "plt.figure(figsize=(10, 10))\n",
    "_ = plt.hist(logits_diff.numpy().flatten(), bins=100, density=True, alpha=0.5, label=\"logits_diff\")\n",
    "_ = plt.hist(finetuned_outputs.logits.float().cpu().numpy().flatten(), bins=100, density=True, alpha=0.5, label=\"logits\")\n",
    "\n",
    "plt.legend()\n",
    "plt.show()"
   ]
  },
  {
   "cell_type": "code",
   "execution_count": 18,
   "metadata": {},
   "outputs": [],
   "source": [
    "compressed_params = []\n",
    "for module in finetuned_compressed_model.modules():\n",
    "    if isinstance(module, TernaryDiff):\n",
    "        for param in module.parameters():\n",
    "            compressed_params.append(param)"
   ]
  },
  {
   "cell_type": "code",
   "execution_count": 19,
   "metadata": {},
   "outputs": [
    {
     "name": "stdout",
     "output_type": "stream",
     "text": [
      "Step 0 Loss: 1.036453127861023\n",
      "Step 1 Loss: 1.1449648141860962\n",
      "Step 2 Loss: 0.5391293168067932\n",
      "Step 3 Loss: 0.6512521505355835\n",
      "Step 4 Loss: 0.31417444348335266\n",
      "Step 5 Loss: 0.22652138769626617\n",
      "Step 6 Loss: 0.5894545912742615\n",
      "Step 7 Loss: 0.3085889518260956\n",
      "Step 8 Loss: 2.355985403060913\n",
      "Step 9 Loss: 0.28839001059532166\n",
      "Step 10 Loss: 0.32323238253593445\n",
      "Step 11 Loss: 0.7123501300811768\n",
      "Step 12 Loss: 0.3364121913909912\n",
      "Step 13 Loss: 0.5326154828071594\n",
      "Step 14 Loss: 0.28907862305641174\n",
      "Step 15 Loss: 0.20523013174533844\n",
      "Step 16 Loss: 0.4371054172515869\n",
      "Step 17 Loss: 0.6166641116142273\n",
      "Step 18 Loss: 0.28384724259376526\n",
      "Step 19 Loss: 0.33203816413879395\n",
      "Step 20 Loss: 0.4468500018119812\n",
      "Step 21 Loss: 0.9612035155296326\n",
      "Step 22 Loss: 0.40951257944107056\n",
      "Step 23 Loss: 0.27753883600234985\n",
      "Step 24 Loss: 0.20766380429267883\n",
      "Step 25 Loss: 0.19375447928905487\n",
      "Step 26 Loss: 0.436728835105896\n",
      "Step 27 Loss: 0.6162780523300171\n",
      "Step 28 Loss: 0.19941407442092896\n",
      "Step 29 Loss: 1.272966980934143\n",
      "Step 30 Loss: 0.18243150413036346\n",
      "Step 31 Loss: 0.485691100358963\n",
      "Step 32 Loss: 0.42318880558013916\n",
      "Step 33 Loss: 0.3443012237548828\n",
      "Step 34 Loss: 0.6258149743080139\n",
      "Step 35 Loss: 0.3059760332107544\n",
      "Step 36 Loss: 0.32187768816947937\n",
      "Step 37 Loss: 0.3378522992134094\n",
      "Step 38 Loss: 0.20109160244464874\n",
      "Step 39 Loss: 0.24796174466609955\n",
      "Step 40 Loss: 0.23951356112957\n",
      "Step 41 Loss: 0.24155735969543457\n",
      "Step 42 Loss: 0.21688267588615417\n",
      "Step 43 Loss: 0.24688903987407684\n",
      "Step 44 Loss: 0.5630307793617249\n",
      "Step 45 Loss: 0.2115831971168518\n",
      "Step 46 Loss: 0.2241118848323822\n",
      "Step 47 Loss: 0.2759975790977478\n",
      "Step 48 Loss: 0.2933843433856964\n",
      "Step 49 Loss: 0.4611333906650543\n",
      "Step 50 Loss: 0.33759766817092896\n",
      "Step 51 Loss: 0.2693272829055786\n",
      "Step 52 Loss: 0.1790606528520584\n",
      "Step 53 Loss: 0.2573238015174866\n",
      "Step 54 Loss: 0.2439022958278656\n",
      "Step 55 Loss: 0.15076395869255066\n",
      "Step 56 Loss: 0.365090936422348\n",
      "Step 57 Loss: 0.35556408762931824\n",
      "Step 58 Loss: 0.4900260865688324\n",
      "Step 59 Loss: 0.2548360526561737\n",
      "Step 60 Loss: 0.3294384479522705\n",
      "Step 61 Loss: 0.19490551948547363\n",
      "Step 62 Loss: 0.1754479855298996\n",
      "Step 63 Loss: 0.3805719017982483\n",
      "Step 64 Loss: 0.28774017095565796\n",
      "Step 65 Loss: 0.4740217626094818\n",
      "Step 66 Loss: 0.25664082169532776\n",
      "Step 67 Loss: 0.18806958198547363\n",
      "Step 68 Loss: 0.29992902278900146\n",
      "Step 69 Loss: 0.24277469515800476\n",
      "Step 70 Loss: 0.24915559589862823\n",
      "Step 71 Loss: 0.29814597964286804\n",
      "Step 72 Loss: 0.1661790907382965\n",
      "Step 73 Loss: 0.14132565259933472\n",
      "Step 74 Loss: 0.27743616700172424\n",
      "Step 75 Loss: 0.16421912610530853\n",
      "Step 76 Loss: 0.21960227191448212\n",
      "Step 77 Loss: 0.3427777886390686\n",
      "Step 78 Loss: 0.2610505521297455\n",
      "Step 79 Loss: 0.1285475343465805\n",
      "Step 80 Loss: 0.4826156497001648\n",
      "Step 81 Loss: 0.7189867496490479\n",
      "Step 82 Loss: 0.19236622750759125\n",
      "Step 83 Loss: 0.2720414698123932\n",
      "Step 84 Loss: 0.1565771996974945\n",
      "Step 85 Loss: 0.42407697439193726\n",
      "Step 86 Loss: 0.3228357434272766\n",
      "Step 87 Loss: 0.3662213683128357\n",
      "Step 88 Loss: 0.36193200945854187\n",
      "Step 89 Loss: 0.24302151799201965\n",
      "Step 90 Loss: 0.2375125288963318\n",
      "Step 91 Loss: 0.1813555210828781\n",
      "Step 92 Loss: 0.5247148275375366\n",
      "Step 93 Loss: 0.2709802985191345\n",
      "Step 94 Loss: 0.2804519236087799\n",
      "Step 95 Loss: 0.20902378857135773\n",
      "Step 96 Loss: 0.27914106845855713\n",
      "Step 97 Loss: 0.19267652928829193\n",
      "Step 98 Loss: 0.1908903568983078\n",
      "Step 99 Loss: 0.19999420642852783\n"
     ]
    }
   ],
   "source": [
    "loss_list = []\n",
    "optimizer = torch.optim.AdamW(finetuned_compressed_model.parameters(), lr=1e-4)\n",
    "scheduler = torch.optim.lr_scheduler.CosineAnnealingLR(optimizer, T_max=100)\n",
    "batch_size = 4\n",
    "for i in range(100):\n",
    "    batch = [dataset[i][\"text\"] for i in range(i*batch_size, (i+1)*batch_size)]\n",
    "    input_ids = tokenizer(batch, add_special_tokens=True, return_tensors=\"pt\", padding=True, truncation=True, max_length=128)[\"input_ids\"]\n",
    "    with torch.inference_mode():\n",
    "        finetuned_outputs = finetuned_model(input_ids.to(finetuned_model.device))\n",
    "    finetuned_compressed_outputs = finetuned_compressed_model(input_ids.to(finetuned_compressed_model.device))\n",
    "    logits_diff = finetuned_outputs.logits.to(finetuned_compressed_outputs.logits.device) - finetuned_compressed_outputs.logits\n",
    "    loss = torch.mean(logits_diff**2)\n",
    "    optimizer.zero_grad()\n",
    "    loss.backward()\n",
    "    optimizer.step()\n",
    "    scheduler.step()\n",
    "    print(f\"Step {i} Loss: {loss.item()}\")\n",
    "    loss_list.append(loss.item())"
   ]
  },
  {
   "cell_type": "code",
   "execution_count": 20,
   "metadata": {},
   "outputs": [
    {
     "data": {
      "text/plain": [
       "[<matplotlib.lines.Line2D at 0x7f74918fd550>]"
      ]
     },
     "execution_count": 20,
     "metadata": {},
     "output_type": "execute_result"
    },
    {
     "data": {
      "image/png": "[encoded data removed]",
      "text/plain": [
       "<Figure size 1000x1000 with 1 Axes>"
      ]
     },
     "metadata": {},
     "output_type": "display_data"
    }
   ],
   "source": [
    "plt.figure(figsize=(10, 10))\n",
    "# plot smoothed loss\n",
    "plt.plot(pd.Series(loss_list).rolling(10).mean())"
   ]
  },
  {
   "cell_type": "code",
   "execution_count": 21,
   "metadata": {},
   "outputs": [],
   "source": [
    "# Update the fine-tuned model with the compressed parameters\n",
    "finetuned_model_state_dict = finetuned_model.state_dict()"
   ]
  },
  {
   "cell_type": "code",
   "execution_count": 22,
   "metadata": {},
   "outputs": [],
   "source": [
    "for name, module in finetuned_compressed_model.named_modules():\n",
    "    if isinstance(module, TernaryDiff):\n",
    "        finetuned_model_state_dict[name+\".weight\"] = (module.base + module.coeff * module.ternary_diff).T"
   ]
  },
  {
   "cell_type": "code",
   "execution_count": 23,
   "metadata": {},
   "outputs": [
    {
     "data": {
      "text/plain": [
       "<All keys matched successfully>"
      ]
     },
     "execution_count": 23,
     "metadata": {},
     "output_type": "execute_result"
    }
   ],
   "source": [
    "finetuned_model.load_state_dict(finetuned_model_state_dict)"
   ]
  },
  {
   "cell_type": "code",
   "execution_count": 24,
   "metadata": {},
   "outputs": [
    {
     "name": "stderr",
     "output_type": "stream",
     "text": [
      "/data/tianle/anaconda3/envs/fastchat/lib/python3.9/site-packages/transformers/generation/configuration_utils.py:508: UserWarning: The generation config instance is invalid -- `.validate()` throws warnings and/or exceptions. Fix these issues to save the configuration. This warning will be raised to an exception in v4.34.\n",
      "\n",
      "Thrown during validation:\n",
      "`do_sample` is set to `False`. However, `temperature` is set to `0.9` -- this flag is only used in sample-based generation modes. You should set `do_sample=True` or unset `temperature`.\n",
      "  warnings.warn(\n"
     ]
    }
   ],
   "source": [
    "finetuned_model.save_pretrained(f\"vicuna-7b-v1.5-16k-binary\")"
   ]
  },
  {
   "cell_type": "code",
   "execution_count": 25,
   "metadata": {},
   "outputs": [
    {
     "data": {
      "text/plain": [
       "('vicuna-7b-v1.5-16k-binary/tokenizer_config.json',\n",
       " 'vicuna-7b-v1.5-16k-binary/special_tokens_map.json',\n",
       " 'vicuna-7b-v1.5-16k-binary/tokenizer.model',\n",
       " 'vicuna-7b-v1.5-16k-binary/added_tokens.json',\n",
       " 'vicuna-7b-v1.5-16k-binary/tokenizer.json')"
      ]
     },
     "execution_count": 25,
     "metadata": {},
     "output_type": "execute_result"
    }
   ],
   "source": [
    "tokenizer.save_pretrained(f\"vicuna-7b-v1.5-16k-binary\")"
   ]
  },
  {
   "cell_type": "code",
   "execution_count": 31,
   "metadata": {},
   "outputs": [
    {
     "data": {
      "text/plain": [
       "torch.bfloat16"
      ]
     },
     "execution_count": 31,
     "metadata": {},
     "output_type": "execute_result"
    }
   ],
   "source": [
    "finetuned_model_state_dict[name+\".weight\"].dtype"
   ]
  },
  {
   "cell_type": "code",
   "execution_count": 32,
   "metadata": {},
   "outputs": [
    {
     "data": {
      "text/plain": [
       "torch.bfloat16"
      ]
     },
     "execution_count": 32,
     "metadata": {},
     "output_type": "execute_result"
    }
   ],
   "source": [
    "(module.base + (module.A @ module.B)).T.dtype"
   ]
  },
  {
   "cell_type": "code",
   "execution_count": 26,
   "metadata": {},
   "outputs": [
    {
     "data": {
      "text/plain": [
       "torch.Size([11008, 16])"
      ]
     },
     "execution_count": 26,
     "metadata": {},
     "output_type": "execute_result"
    }
   ],
   "source": [
    "finetuned_lora_model_state_dict[\"model.layers.31.mlp.down_proj.A\"].shape"
   ]
  },
  {
   "cell_type": "code",
   "execution_count": null,
   "metadata": {},
   "outputs": [],
   "source": []
  }
 ],
 "metadata": {
  "kernelspec": {
   "display_name": "Python 3",
   "language": "python",
   "name": "python3"
  },
  "language_info": {
   "codemirror_mode": {
    "name": "ipython",
    "version": 3
   },
   "file_extension": ".py",
   "mimetype": "text/x-python",
   "name": "python",
   "nbconvert_exporter": "python",
   "pygments_lexer": "ipython3",
   "version": "3.8.10"
  },
  "orig_nbformat": 4,
  "vscode": {
   "interpreter": {
    "hash": "31f2aee4e71d21fbe5cf8b01ff0e069b9275f58929596ceb00d14d90e3e16cd6"
   }
  }
 },
 "nbformat": 4,
 "nbformat_minor": 2
}
