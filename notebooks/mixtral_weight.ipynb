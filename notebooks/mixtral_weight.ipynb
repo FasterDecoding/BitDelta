{
 "cells": [
  {
   "cell_type": "code",
   "execution_count": 1,
   "metadata": {},
   "outputs": [],
   "source": [
    "import torch\n",
    "from transformers import AutoModelForCausalLM\n",
    "import os\n",
    "from transformers.models.mixtral.modeling_mixtral import MixtralForCausalLM\n",
    "os.environ[\"CUDA_VISIBLE_DEVICES\"] = \"0,1\""
   ]
  },
  {
   "cell_type": "code",
   "execution_count": 2,
   "metadata": {},
   "outputs": [],
   "source": [
    "model_id = \"mistralai/Mixtral-8x7B-v0.1\""
   ]
  },
  {
   "cell_type": "code",
   "execution_count": 3,
   "metadata": {},
   "outputs": [
    {
     "data": {
      "application/vnd.jupyter.widget-view+json": {
       "model_id": "87ba93e608264b4ca094e2c93763ff99",
       "version_major": 2,
       "version_minor": 0
      },
      "text/plain": [
       "Loading checkpoint shards:   0%|          | 0/19 [00:00<?, ?it/s]"
      ]
     },
     "metadata": {},
     "output_type": "display_data"
    }
   ],
   "source": [
    "model = AutoModelForCausalLM.from_pretrained(model_id, torch_dtype=torch.float16, device_map='auto')"
   ]
  },
  {
   "cell_type": "code",
   "execution_count": 11,
   "metadata": {},
   "outputs": [
    {
     "data": {
      "text/plain": [
       "transformers.models.mixtral.modeling_mixtral.MixtralForCausalLM"
      ]
     },
     "execution_count": 11,
     "metadata": {},
     "output_type": "execute_result"
    }
   ],
   "source": [
    "type(model)"
   ]
  },
  {
   "cell_type": "code",
   "execution_count": 12,
   "metadata": {},
   "outputs": [
    {
     "name": "stdout",
     "output_type": "stream",
     "text": [
      "MixtralForCausalLM(\n",
      "  (model): MixtralModel(\n",
      "    (embed_tokens): Embedding(32000, 4096)\n",
      "    (layers): ModuleList(\n",
      "      (0-31): 32 x MixtralDecoderLayer(\n",
      "        (self_attn): MixtralAttention(\n",
      "          (q_proj): Linear(in_features=4096, out_features=4096, bias=False)\n",
      "          (k_proj): Linear(in_features=4096, out_features=1024, bias=False)\n",
      "          (v_proj): Linear(in_features=4096, out_features=1024, bias=False)\n",
      "          (o_proj): Linear(in_features=4096, out_features=4096, bias=False)\n",
      "          (rotary_emb): MixtralRotaryEmbedding()\n",
      "        )\n",
      "        (block_sparse_moe): MixtralSparseMoeBlock(\n",
      "          (gate): Linear(in_features=4096, out_features=8, bias=False)\n",
      "          (experts): ModuleList(\n",
      "            (0-7): 8 x MixtralBLockSparseTop2MLP(\n",
      "              (w1): Linear(in_features=4096, out_features=14336, bias=False)\n",
      "              (w2): Linear(in_features=14336, out_features=4096, bias=False)\n",
      "              (w3): Linear(in_features=4096, out_features=14336, bias=False)\n",
      "              (act_fn): SiLU()\n",
      "            )\n",
      "          )\n",
      "        )\n",
      "        (input_layernorm): MixtralRMSNorm()\n",
      "        (post_attention_layernorm): MixtralRMSNorm()\n",
      "      )\n",
      "    )\n",
      "    (norm): MixtralRMSNorm()\n",
      "  )\n",
      "  (lm_head): Linear(in_features=4096, out_features=32000, bias=False)\n",
      ")\n"
     ]
    }
   ],
   "source": [
    "print(model)"
   ]
  },
  {
   "cell_type": "code",
   "execution_count": 13,
   "metadata": {},
   "outputs": [
    {
     "name": "stdout",
     "output_type": "stream",
     "text": [
      "Layer 0\n",
      "  w1: tensor([0.4053, 0.4495, 0.4712, 0.4617, 0.4463, 0.4363, 0.4109, 0.4302],\n",
      "       device='cuda:0', dtype=torch.float16)\n",
      "  w2: tensor([0.3813, 0.4468, 0.4636, 0.4541, 0.4436, 0.4272, 0.3926, 0.4226],\n",
      "       device='cuda:0', dtype=torch.float16)\n",
      "  w3: tensor([0.3867, 0.4307, 0.4509, 0.4414, 0.4287, 0.4177, 0.3909, 0.4131],\n",
      "       device='cuda:0', dtype=torch.float16)\n",
      "Layer 1\n",
      "  w1: tensor(..., device='meta', size=(8,), dtype=torch.float16)\n",
      "  w2: tensor(..., device='meta', size=(8,), dtype=torch.float16)\n",
      "  w3: tensor(..., device='meta', size=(8,), dtype=torch.float16)\n",
      "Layer 2\n",
      "  w1: tensor(..., device='meta', size=(8,), dtype=torch.float16)\n",
      "  w2: tensor(..., device='meta', size=(8,), dtype=torch.float16)\n",
      "  w3: tensor(..., device='meta', size=(8,), dtype=torch.float16)\n",
      "Layer 3\n",
      "  w1: tensor(..., device='meta', size=(8,), dtype=torch.float16)\n",
      "  w2: tensor(..., device='meta', size=(8,), dtype=torch.float16)\n",
      "  w3: tensor(..., device='meta', size=(8,), dtype=torch.float16)\n",
      "Layer 4\n",
      "  w1: tensor(..., device='meta', size=(8,), dtype=torch.float16)\n",
      "  w2: tensor(..., device='meta', size=(8,), dtype=torch.float16)\n",
      "  w3: tensor(..., device='meta', size=(8,), dtype=torch.float16)\n",
      "Layer 5\n",
      "  w1: tensor(..., device='meta', size=(8,), dtype=torch.float16)\n",
      "  w2: tensor(..., device='meta', size=(8,), dtype=torch.float16)\n",
      "  w3: tensor(..., device='meta', size=(8,), dtype=torch.float16)\n",
      "Layer 6\n",
      "  w1: tensor(..., device='meta', size=(8,), dtype=torch.float16)\n",
      "  w2: tensor(..., device='meta', size=(8,), dtype=torch.float16)\n",
      "  w3: tensor(..., device='meta', size=(8,), dtype=torch.float16)\n",
      "Layer 7\n",
      "  w1: tensor(..., device='meta', size=(8,), dtype=torch.float16)\n",
      "  w2: tensor(..., device='meta', size=(8,), dtype=torch.float16)\n",
      "  w3: tensor(..., device='meta', size=(8,), dtype=torch.float16)\n",
      "Layer 8\n",
      "  w1: tensor(..., device='meta', size=(8,), dtype=torch.float16)\n",
      "  w2: tensor(..., device='meta', size=(8,), dtype=torch.float16)\n",
      "  w3: tensor(..., device='meta', size=(8,), dtype=torch.float16)\n",
      "Layer 9\n",
      "  w1: tensor(..., device='meta', size=(8,), dtype=torch.float16)\n",
      "  w2: tensor(..., device='meta', size=(8,), dtype=torch.float16)\n",
      "  w3: tensor(..., device='meta', size=(8,), dtype=torch.float16)\n",
      "Layer 10\n",
      "  w1: tensor(..., device='meta', size=(8,), dtype=torch.float16)\n",
      "  w2: tensor(..., device='meta', size=(8,), dtype=torch.float16)\n",
      "  w3: tensor(..., device='meta', size=(8,), dtype=torch.float16)\n",
      "Layer 11\n",
      "  w1: tensor(..., device='meta', size=(8,), dtype=torch.float16)\n",
      "  w2: tensor(..., device='meta', size=(8,), dtype=torch.float16)\n",
      "  w3: tensor(..., device='meta', size=(8,), dtype=torch.float16)\n",
      "Layer 12\n",
      "  w1: tensor(..., device='meta', size=(8,), dtype=torch.float16)\n",
      "  w2: tensor(..., device='meta', size=(8,), dtype=torch.float16)\n",
      "  w3: tensor(..., device='meta', size=(8,), dtype=torch.float16)\n",
      "Layer 13\n",
      "  w1: tensor(..., device='meta', size=(8,), dtype=torch.float16)\n",
      "  w2: tensor(..., device='meta', size=(8,), dtype=torch.float16)\n",
      "  w3: tensor(..., device='meta', size=(8,), dtype=torch.float16)\n",
      "Layer 14\n",
      "  w1: tensor(..., device='meta', size=(8,), dtype=torch.float16)\n",
      "  w2: tensor(..., device='meta', size=(8,), dtype=torch.float16)\n",
      "  w3: tensor(..., device='meta', size=(8,), dtype=torch.float16)\n",
      "Layer 15\n",
      "  w1: tensor(..., device='meta', size=(8,), dtype=torch.float16)\n",
      "  w2: tensor(..., device='meta', size=(8,), dtype=torch.float16)\n",
      "  w3: tensor(..., device='meta', size=(8,), dtype=torch.float16)\n",
      "Layer 16\n",
      "  w1: tensor(..., device='meta', size=(8,), dtype=torch.float16)\n",
      "  w2: tensor(..., device='meta', size=(8,), dtype=torch.float16)\n",
      "  w3: tensor(..., device='meta', size=(8,), dtype=torch.float16)\n",
      "Layer 17\n",
      "  w1: tensor(..., device='meta', size=(8,), dtype=torch.float16)\n",
      "  w2: tensor(..., device='meta', size=(8,), dtype=torch.float16)\n",
      "  w3: tensor(..., device='meta', size=(8,), dtype=torch.float16)\n",
      "Layer 18\n",
      "  w1: tensor(..., device='meta', size=(8,), dtype=torch.float16)\n",
      "  w2: tensor(..., device='meta', size=(8,), dtype=torch.float16)\n",
      "  w3: tensor(..., device='meta', size=(8,), dtype=torch.float16)\n",
      "Layer 19\n",
      "  w1: tensor(..., device='meta', size=(8,), dtype=torch.float16)\n",
      "  w2: tensor(..., device='meta', size=(8,), dtype=torch.float16)\n",
      "  w3: tensor(..., device='meta', size=(8,), dtype=torch.float16)\n",
      "Layer 20\n",
      "  w1: tensor(..., device='meta', size=(8,), dtype=torch.float16)\n",
      "  w2: tensor(..., device='meta', size=(8,), dtype=torch.float16)\n",
      "  w3: tensor(..., device='meta', size=(8,), dtype=torch.float16)\n",
      "Layer 21\n",
      "  w1: tensor(..., device='meta', size=(8,), dtype=torch.float16)\n",
      "  w2: tensor(..., device='meta', size=(8,), dtype=torch.float16)\n",
      "  w3: tensor(..., device='meta', size=(8,), dtype=torch.float16)\n",
      "Layer 22\n",
      "  w1: tensor(..., device='meta', size=(8,), dtype=torch.float16)\n",
      "  w2: tensor(..., device='meta', size=(8,), dtype=torch.float16)\n",
      "  w3: tensor(..., device='meta', size=(8,), dtype=torch.float16)\n",
      "Layer 23\n",
      "  w1: tensor(..., device='meta', size=(8,), dtype=torch.float16)\n",
      "  w2: tensor(..., device='meta', size=(8,), dtype=torch.float16)\n",
      "  w3: tensor(..., device='meta', size=(8,), dtype=torch.float16)\n",
      "Layer 24\n",
      "  w1: tensor(..., device='meta', size=(8,), dtype=torch.float16)\n",
      "  w2: tensor(..., device='meta', size=(8,), dtype=torch.float16)\n",
      "  w3: tensor(..., device='meta', size=(8,), dtype=torch.float16)\n",
      "Layer 25\n",
      "  w1: tensor(..., device='meta', size=(8,), dtype=torch.float16)\n",
      "  w2: tensor(..., device='meta', size=(8,), dtype=torch.float16)\n",
      "  w3: tensor(..., device='meta', size=(8,), dtype=torch.float16)\n",
      "Layer 26\n",
      "  w1: tensor(..., device='meta', size=(8,), dtype=torch.float16)\n",
      "  w2: tensor(..., device='meta', size=(8,), dtype=torch.float16)\n",
      "  w3: tensor(..., device='meta', size=(8,), dtype=torch.float16)\n",
      "Layer 27\n",
      "  w1: tensor(..., device='meta', size=(8,), dtype=torch.float16)\n",
      "  w2: tensor(..., device='meta', size=(8,), dtype=torch.float16)\n",
      "  w3: tensor(..., device='meta', size=(8,), dtype=torch.float16)\n",
      "Layer 28\n",
      "  w1: tensor(..., device='meta', size=(8,), dtype=torch.float16)\n",
      "  w2: tensor(..., device='meta', size=(8,), dtype=torch.float16)\n",
      "  w3: tensor(..., device='meta', size=(8,), dtype=torch.float16)\n",
      "Layer 29\n",
      "  w1: tensor(..., device='meta', size=(8,), dtype=torch.float16)\n",
      "  w2: tensor(..., device='meta', size=(8,), dtype=torch.float16)\n",
      "  w3: tensor(..., device='meta', size=(8,), dtype=torch.float16)\n",
      "Layer 30\n",
      "  w1: tensor(..., device='meta', size=(8,), dtype=torch.float16)\n",
      "  w2: tensor(..., device='meta', size=(8,), dtype=torch.float16)\n",
      "  w3: tensor(..., device='meta', size=(8,), dtype=torch.float16)\n",
      "Layer 31\n",
      "  w1: tensor(..., device='meta', size=(8,), dtype=torch.float16)\n",
      "  w2: tensor(..., device='meta', size=(8,), dtype=torch.float16)\n",
      "  w3: tensor(..., device='meta', size=(8,), dtype=torch.float16)\n"
     ]
    }
   ],
   "source": [
    "with torch.no_grad():\n",
    "    for idx, layer in enumerate(model.model.layers):\n",
    "        experts = layer.block_sparse_moe.experts\n",
    "        w1s = torch.stack([expert.w1.weight.flatten() for expert in experts])\n",
    "        w2s = torch.stack([expert.w2.weight.flatten() for expert in experts])\n",
    "        w3s = torch.stack([expert.w3.weight.flatten() for expert in experts])\n",
    "        mean_w1 = torch.mean(w1s, dim=0)\n",
    "        mean_w2 = torch.mean(w2s, dim=0)\n",
    "        mean_w3 = torch.mean(w3s, dim=0)\n",
    "\n",
    "        def sim(w1, w2s):\n",
    "            diffs = w2s - w1.unsqueeze(0)\n",
    "            r2 = torch.sum(diffs ** 2, dim=1)\n",
    "        \n",
    "        print(f\"Layer {idx}\")\n",
    "        print(f\"  w1: {sim(mean_w1, w1s)}\")\n",
    "        print(f\"  w2: {sim(mean_w2, w2s)}\")\n",
    "        print(f\"  w3: {sim(mean_w3, w3s)}\")"
   ]
  },
  {
   "cell_type": "code",
   "execution_count": null,
   "metadata": {},
   "outputs": [],
   "source": [
    "class BinaryExperts(nn.Module):\n",
    "    def __init__(self, base, experts):\n",
    "        super().__init__()\n",
    "        diff = finetune - base\n",
    "        quantile = diff.float().abs().median()\n",
    "\n",
    "        mask = torch.ones_like(diff)\n",
    "        mask[diff < 0] = -1\n",
    "\n",
    "        self.register_buffer(\"mask\", mask.T)\n",
    "        self.register_buffer(\"base\", base.T)\n",
    "        self.register_parameter(\n",
    "            \"coeff\",\n",
    "            nn.Parameter(\n",
    "                torch.tensor(\n",
    "                    quantile,\n",
    "                    dtype=torch.float32,\n",
    "                    requires_grad=True,\n",
    "                    device=base.device,\n",
    "                )\n",
    "            ),\n",
    "        )\n",
    "        del base\n",
    "\n",
    "    def forward(self, x):\n",
    "        x = x @ (self.base + self.coeff * self.mask)\n",
    "        return x\n",
    "\n",
    "@torch.no_grad()\n",
    "def compress_mixtral_moe_diff(model):\n",
    "    for name, module in model.named_modules():\n",
    "        if name.endswith(\"experts\"):\n",
    "            experts = module\n",
    "            for expert in experts:\n",
    "                w1 = expert.w1.weight\n",
    "                w2 = expert.w2.weight\n",
    "                w3 = expert.w3.weight\n",
    "                expert.w1.weight = torch.nn.Parameter(w1 - w2)\n",
    "                expert.w2.weight = torch.nn.Parameter(w2 - w3)\n",
    "                expert.w3.weight = torch.nn.Parameter(w3)"
   ]
  }
 ],
 "metadata": {
  "kernelspec": {
   "display_name": "diff_compress",
   "language": "python",
   "name": "python3"
  },
  "language_info": {
   "codemirror_mode": {
    "name": "ipython",
    "version": 3
   },
   "file_extension": ".py",
   "mimetype": "text/x-python",
   "name": "python",
   "nbconvert_exporter": "python",
   "pygments_lexer": "ipython3",
   "version": "3.8.18"
  },
  "orig_nbformat": 4,
  "vscode": {
   "interpreter": {
    "hash": "c71f4d5a5aec2fba7f6043081255bb8208f90120c16b0aee2e70c0ff01edc58b"
   }
  }
 },
 "nbformat": 4,
 "nbformat_minor": 2
}
